{
 "cells": [
  {
   "cell_type": "code",
   "execution_count": 8,
   "metadata": {},
   "outputs": [],
   "source": [
    "import os\n",
    "import numpy as np\n",
    "from PIL import Image\n",
    "import matplotlib.pyplot as plt"
   ]
  },
  {
   "cell_type": "code",
   "execution_count": 21,
   "metadata": {},
   "outputs": [],
   "source": [
    "path1 = './../../output/deep-residual-unet/test_output/'\n",
    "path2 = './../../output/deep-residual-unet-full/test_output/'\n",
    "\n",
    "output_path = './../../output/deep-residual-unet-avg-full-patch/'\n",
    "\n",
    "files = os.listdir(path1) #assume files have the same name in both folders\n",
    "signals = []\n",
    "\n",
    "for file in files:\n",
    "    # load image\n",
    "    img1 = Image.open(path1 + file)\n",
    "    img2 = Image.open(path2 + file)\n",
    "    \n",
    "    img1 = np.asarray(img1) / 255.0\n",
    "    img2 = np.asarray(img2) / 255.0\n",
    "    \n",
    "    avg_img = (img1 + img2) / 2.0\n",
    "    sup_img = img1 + img2\n",
    "    \n",
    "    \n",
    "    avg_img = (avg_img * 255).astype('uint8')\n",
    "    #sup_img = (sup_img * 255).astype('uint8')\n",
    "    \n",
    "    # correct for super imposed\n",
    "    #sup_img[sup_img>255] = 255\n",
    "    \n",
    "    Image.fromarray(avg_img).save(output_path + file)\n",
    "    #Image.fromarray(sup_img).save(output_path + 'sup_' + file)\n",
    "\n",
    "    \n",
    "    \n",
    "    "
   ]
  },
  {
   "cell_type": "code",
   "execution_count": 17,
   "metadata": {},
   "outputs": [
    {
     "data": {
      "text/plain": [
       "<matplotlib.image.AxesImage at 0x1e3389935f8>"
      ]
     },
     "execution_count": 17,
     "metadata": {},
     "output_type": "execute_result"
    },
    {
     "data": {
      "image/png": "[encoded data removed]",
      "text/plain": [
       "<matplotlib.figure.Figure at 0x1e338b309b0>"
      ]
     },
     "metadata": {},
     "output_type": "display_data"
    }
   ],
   "source": [
    "f, axarr = plt.subplots(4)\n",
    "\n",
    "file = 'out208.png'\n",
    "axarr[0].imshow(Image.open(path1 + file))\n",
    "axarr[1].imshow(Image.open(path2 + file))\n",
    "axarr[2].imshow(Image.open(output_path + 'avg_' + file))\n",
    "axarr[3].imshow(Image.open(output_path + 'sup_' + file))\n",
    "    "
   ]
  },
  {
   "cell_type": "code",
   "execution_count": null,
   "metadata": {},
   "outputs": [],
   "source": []
  }
 ],
 "metadata": {
  "kernelspec": {
   "display_name": "Python 3",
   "language": "python",
   "name": "python3"
  },
  "language_info": {
   "codemirror_mode": {
    "name": "ipython",
    "version": 3
   },
   "file_extension": ".py",
   "mimetype": "text/x-python",
   "name": "python",
   "nbconvert_exporter": "python",
   "pygments_lexer": "ipython3",
   "version": "3.6.4"
  }
 },
 "nbformat": 4,
 "nbformat_minor": 2
}
