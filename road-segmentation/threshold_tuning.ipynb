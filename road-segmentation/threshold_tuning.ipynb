{
 "cells": [
  {
   "cell_type": "code",
   "execution_count": 1,
   "metadata": {},
   "outputs": [],
   "source": [
    "import os, re\n",
    "from PIL import Image\n",
    "import ipywidgets as widgets\n",
    "import matplotlib.pyplot as plt\n",
    "import numpy as np\n",
    "from core.submission import Submission\n",
    "\n",
    "%matplotlib inline"
   ]
  },
  {
   "cell_type": "code",
   "execution_count": 9,
   "metadata": {},
   "outputs": [],
   "source": [
    "# load all predictions + images from a folder\n",
    "\n",
    "model_name = 'vanilla-unet_ext'\n",
    "\n",
    "image_dir = './../data/test_images/'\n",
    "prediction_dir = f'./../output/{model_name}/test_output/predictions/'\n",
    "\n",
    "img = {}\n",
    "pred = {}\n",
    "\n",
    "for file in os.listdir(image_dir):\n",
    "    img_id = int(re.search('\\d+', file).group(0))\n",
    "\n",
    "    img[img_id] = Image.open(image_dir + file)\n",
    "    pred[img_id] = __to_array(Image.open(prediction_dir + file))"
   ]
  },
  {
   "cell_type": "code",
   "execution_count": 10,
   "metadata": {},
   "outputs": [
    {
     "name": "stdout",
     "output_type": "stream",
     "text": [
      "Starting Submission...\n",
      "Writing Predictions to: ./../output/vanilla-unet-ext-0.5/predictions/\n",
      "Writing Csv to: ./../output/vanilla-unet-ext-0.5/csv/\n",
      "Writing Masks to: ./../output/vanilla-unet-ext-0.5/masks/\n",
      "Writing Overlays to: ./../output/vanilla-unet-ext-0.5/overlays/\n",
      "Writing Mask Overlays to: ./../output/vanilla-unet-ext-0.5/mask_overlays/\n",
      "Submission Finished\n"
     ]
    }
   ],
   "source": [
    "pixel_threshold = 0.5\n",
    "config = SubmissionConfig('vanilla-unet-ext-0.5')\n",
    "submission = Submission(config)\n",
    "\n",
    "for img_id, pred in pred.items():\n",
    "    # could add postprocessing here\n",
    "    pred = np.where(pred>pixel_threshold, 1, 0)\n",
    "    \n",
    "    submission.add(prediction=pred, img_id=img_id)\n",
    "\n",
    "\n",
    "    \n",
    "submission.write()\n",
    "    "
   ]
  },
  {
   "cell_type": "code",
   "execution_count": 44,
   "metadata": {},
   "outputs": [
    {
     "data": {
      "application/vnd.jupyter.widget-view+json": {
       "model_id": "6b35384c6e744505aa3b92f5f1ed3d7c",
       "version_major": 2,
       "version_minor": 0
      },
      "text/html": [
       "<p>Failed to display Jupyter Widget of type <code>interactive</code>.</p>\n",
       "<p>\n",
       "  If you're reading this message in the Jupyter Notebook or JupyterLab Notebook, it may mean\n",
       "  that the widgets JavaScript is still loading. If this message persists, it\n",
       "  likely means that the widgets JavaScript library is either not installed or\n",
       "  not enabled. See the <a href=\"https://ipywidgets.readthedocs.io/en/stable/user_install.html\">Jupyter\n",
       "  Widgets Documentation</a> for setup instructions.\n",
       "</p>\n",
       "<p>\n",
       "  If you're reading this message in another frontend (for example, a static\n",
       "  rendering on GitHub or <a href=\"https://nbviewer.jupyter.org/\">NBViewer</a>),\n",
       "  it may mean that your frontend doesn't currently support widgets.\n",
       "</p>\n"
      ],
      "text/plain": [
       "interactive(children=(FloatSlider(value=0.5, description='patch_threshold', max=1.0), FloatSlider(value=0.5, description='pixel_threshold', max=1.0), Output()), _dom_classes=('widget-interact',))"
      ]
     },
     "metadata": {},
     "output_type": "display_data"
    }
   ],
   "source": [
    "@widgets.interact\n",
    "def test(patch_threshold=(0.00,1.00), pixel_threshold=(0.0,1.0)):\n",
    "    img_id = 204\n",
    "    #pixel_threshold = None\n",
    "    patch_threshold = 0.25\n",
    "\n",
    "    \n",
    "    overlay = get_mask_overlay(img=img[img_id], prediction=pred[img_id], pixel_threshold=pixel_threshold, patch_threshold= patch_threshold)\n",
    "    default = get_mask_overlay(img=img[img_id], prediction=pred[img_id], pixel_threshold=None, patch_threshold=0.25)\n",
    "    \n",
    "    overlay = np.hstack((overlay, default))\n",
    "    plt.imshow(np.asarray(overlay))"
   ]
  },
  {
   "cell_type": "code",
   "execution_count": 4,
   "metadata": {},
   "outputs": [],
   "source": [
    "def get_mask_overlay(img, prediction, pixel_threshold, patch_threshold):\n",
    "    patch_size = 16\n",
    "        \n",
    "    square = {\n",
    "        0: np.zeros((patch_size,patch_size)),\n",
    "        1: np.ones((patch_size,patch_size))\n",
    "    }\n",
    "        \n",
    "    mask = np.zeros((prediction.shape[0], prediction.shape[1], 3))\n",
    "\n",
    "    for j in range(0, prediction.shape[1], patch_size):\n",
    "        for i in range(0, prediction.shape[0], patch_size):\n",
    "            patch = prediction[i:i + patch_size, j:j + patch_size]\n",
    "                    \n",
    "            if pixel_threshold is not None:\n",
    "                patch = np.where(patch>pixel_threshold, 1, 0)\n",
    "                    \n",
    "            patch_mean = np.mean(patch)\n",
    "                    \n",
    "            if patch_mean > patch_threshold:\n",
    "                label = 1\n",
    "            else:\n",
    "                label = 0\n",
    "                        \n",
    "            mask[i:i + patch_size, j:j + patch_size, 0] = square[label]\n",
    "                        \n",
    "        \n",
    "    mask = __to_image(mask)\n",
    "    overlay = __to_overlay(bg=img, overlay=mask)\n",
    "                    \n",
    "    return overlay"
   ]
  },
  {
   "cell_type": "code",
   "execution_count": 3,
   "metadata": {},
   "outputs": [],
   "source": [
    "# utility functions\n",
    "\n",
    "def __to_overlay(bg, overlay, alpha=0.2):\n",
    "    bg = bg.convert('RGBA')\n",
    "    overlay = overlay.convert('RGBA')\n",
    "    return Image.blend(bg, overlay, alpha)\n",
    "\n",
    "def __to_image(img_array):\n",
    "    img_array = (img_array * 255).round().astype(np.uint8)\n",
    "    return Image.fromarray(img_array)\n",
    "\n",
    "def __to_array(img):\n",
    "    img_array = np.asarray(img)\n",
    "    return img_array / 255.0"
   ]
  },
  {
   "cell_type": "code",
   "execution_count": 6,
   "metadata": {},
   "outputs": [],
   "source": [
    "class SubmissionConfig():\n",
    "    \n",
    "    def __init__(self, model_name):\n",
    "        self.MODEL_NAME = model_name\n",
    "        \n",
    "        self.TEST_OUTPUT_DIR = self.BASE_DIR + 'output/' + self.MODEL_NAME + '/'\n",
    "    \n",
    "    BASE_DIR = './../'\n",
    "    \n",
    "    \n",
    "    TEST_PATH_TO_DATA = BASE_DIR + 'data/test_images'\n",
    "    TEST_IMAGE_SIZE = 608\n",
    "    TEST_PATCH_FOREGROUND_THRESHOLD = 0.25\n",
    "    \n",
    "    SUB_WRITE_PREDICTIONS = True\n",
    "    SUB_WRITE_CSV = True\n",
    "    SUB_WRITE_MASKS = True\n",
    "    SUB_WRITE_OVERLAYS = True\n",
    "    SUB_WRITE_MASK_OVERLAYS = True\n",
    "    "
   ]
  },
  {
   "cell_type": "code",
   "execution_count": null,
   "metadata": {},
   "outputs": [],
   "source": []
  }
 ],
 "metadata": {
  "kernelspec": {
   "display_name": "Python 3",
   "language": "python",
   "name": "python3"
  },
  "language_info": {
   "codemirror_mode": {
    "name": "ipython",
    "version": 3
   },
   "file_extension": ".py",
   "mimetype": "text/x-python",
   "name": "python",
   "nbconvert_exporter": "python",
   "pygments_lexer": "ipython3",
   "version": "3.6.4"
  }
 },
 "nbformat": 4,
 "nbformat_minor": 2
}
